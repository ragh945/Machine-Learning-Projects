{
 "cells": [
  {
   "cell_type": "code",
   "execution_count": 1,
   "id": "926aeda7",
   "metadata": {},
   "outputs": [],
   "source": [
    "#Import the required libraries\n",
    "import pandas as pd\n",
    "import numpy as np"
   ]
  },
  {
   "cell_type": "code",
   "execution_count": 2,
   "id": "b3d4123a",
   "metadata": {},
   "outputs": [
    {
     "data": {
      "text/html": [
       "<div>\n",
       "<style scoped>\n",
       "    .dataframe tbody tr th:only-of-type {\n",
       "        vertical-align: middle;\n",
       "    }\n",
       "\n",
       "    .dataframe tbody tr th {\n",
       "        vertical-align: top;\n",
       "    }\n",
       "\n",
       "    .dataframe thead th {\n",
       "        text-align: right;\n",
       "    }\n",
       "</style>\n",
       "<table border=\"1\" class=\"dataframe\">\n",
       "  <thead>\n",
       "    <tr style=\"text-align: right;\">\n",
       "      <th></th>\n",
       "      <th>start_lat</th>\n",
       "      <th>start_lng</th>\n",
       "      <th>end_lat</th>\n",
       "      <th>end_lng</th>\n",
       "      <th>distance_km</th>\n",
       "      <th>traffic_density</th>\n",
       "      <th>weather_condition</th>\n",
       "      <th>day_of_week</th>\n",
       "      <th>hour_of_day</th>\n",
       "      <th>ETA</th>\n",
       "    </tr>\n",
       "  </thead>\n",
       "  <tbody>\n",
       "    <tr>\n",
       "      <th>0</th>\n",
       "      <td>17.312362</td>\n",
       "      <td>78.355540</td>\n",
       "      <td>17.278512</td>\n",
       "      <td>78.501811</td>\n",
       "      <td>17.587880</td>\n",
       "      <td>3</td>\n",
       "      <td>rainy</td>\n",
       "      <td>3</td>\n",
       "      <td>17</td>\n",
       "      <td>26.113020</td>\n",
       "    </tr>\n",
       "    <tr>\n",
       "      <th>1</th>\n",
       "      <td>17.485214</td>\n",
       "      <td>78.462570</td>\n",
       "      <td>17.274094</td>\n",
       "      <td>78.539004</td>\n",
       "      <td>24.357538</td>\n",
       "      <td>8</td>\n",
       "      <td>clear</td>\n",
       "      <td>5</td>\n",
       "      <td>14</td>\n",
       "      <td>58.715248</td>\n",
       "    </tr>\n",
       "    <tr>\n",
       "      <th>2</th>\n",
       "      <td>17.419598</td>\n",
       "      <td>78.561884</td>\n",
       "      <td>17.471876</td>\n",
       "      <td>78.375140</td>\n",
       "      <td>23.044667</td>\n",
       "      <td>7</td>\n",
       "      <td>rainy</td>\n",
       "      <td>6</td>\n",
       "      <td>8</td>\n",
       "      <td>59.316409</td>\n",
       "    </tr>\n",
       "    <tr>\n",
       "      <th>3</th>\n",
       "      <td>17.379598</td>\n",
       "      <td>78.519667</td>\n",
       "      <td>17.274864</td>\n",
       "      <td>78.487462</td>\n",
       "      <td>5.463097</td>\n",
       "      <td>3</td>\n",
       "      <td>clear</td>\n",
       "      <td>2</td>\n",
       "      <td>17</td>\n",
       "      <td>35.630253</td>\n",
       "    </tr>\n",
       "    <tr>\n",
       "      <th>4</th>\n",
       "      <td>17.246806</td>\n",
       "      <td>78.541968</td>\n",
       "      <td>17.281585</td>\n",
       "      <td>78.471524</td>\n",
       "      <td>5.328235</td>\n",
       "      <td>6</td>\n",
       "      <td>clear</td>\n",
       "      <td>1</td>\n",
       "      <td>2</td>\n",
       "      <td>56.713490</td>\n",
       "    </tr>\n",
       "  </tbody>\n",
       "</table>\n",
       "</div>"
      ],
      "text/plain": [
       "   start_lat  start_lng    end_lat    end_lng  distance_km  traffic_density  \\\n",
       "0  17.312362  78.355540  17.278512  78.501811    17.587880                3   \n",
       "1  17.485214  78.462570  17.274094  78.539004    24.357538                8   \n",
       "2  17.419598  78.561884  17.471876  78.375140    23.044667                7   \n",
       "3  17.379598  78.519667  17.274864  78.487462     5.463097                3   \n",
       "4  17.246806  78.541968  17.281585  78.471524     5.328235                6   \n",
       "\n",
       "  weather_condition  day_of_week  hour_of_day        ETA  \n",
       "0             rainy            3           17  26.113020  \n",
       "1             clear            5           14  58.715248  \n",
       "2             rainy            6            8  59.316409  \n",
       "3             clear            2           17  35.630253  \n",
       "4             clear            1            2  56.713490  "
      ]
     },
     "execution_count": 2,
     "metadata": {},
     "output_type": "execute_result"
    }
   ],
   "source": [
    "#Reading the csv file using pd.read_csv()\n",
    "df=pd.read_csv(r\"C:\\Users\\RAGHAVENDRA KUMAR\\Downloads\\hyderabad_eta_data.csv\")\n",
    "df1=df.copy()\n",
    "df1.head()"
   ]
  },
  {
   "cell_type": "markdown",
   "id": "774297ab",
   "metadata": {},
   "source": [
    "# Data preprocessing"
   ]
  },
  {
   "cell_type": "code",
   "execution_count": 3,
   "id": "de27b53c",
   "metadata": {},
   "outputs": [
    {
     "data": {
      "text/plain": [
       "start_lat            0\n",
       "start_lng            0\n",
       "end_lat              0\n",
       "end_lng              0\n",
       "distance_km          0\n",
       "traffic_density      0\n",
       "weather_condition    0\n",
       "day_of_week          0\n",
       "hour_of_day          0\n",
       "ETA                  0\n",
       "dtype: int64"
      ]
     },
     "execution_count": 3,
     "metadata": {},
     "output_type": "execute_result"
    }
   ],
   "source": [
    "#Checking the null values\n",
    "df1.isnull().sum()"
   ]
  },
  {
   "cell_type": "code",
   "execution_count": 4,
   "id": "a9be07eb",
   "metadata": {},
   "outputs": [
    {
     "data": {
      "text/plain": [
       "0"
      ]
     },
     "execution_count": 4,
     "metadata": {},
     "output_type": "execute_result"
    }
   ],
   "source": [
    "#Checking the duplicate values\n",
    "df1.duplicated().sum()"
   ]
  },
  {
   "cell_type": "code",
   "execution_count": 5,
   "id": "dca58dbe",
   "metadata": {},
   "outputs": [
    {
     "data": {
      "text/html": [
       "<div>\n",
       "<style scoped>\n",
       "    .dataframe tbody tr th:only-of-type {\n",
       "        vertical-align: middle;\n",
       "    }\n",
       "\n",
       "    .dataframe tbody tr th {\n",
       "        vertical-align: top;\n",
       "    }\n",
       "\n",
       "    .dataframe thead th {\n",
       "        text-align: right;\n",
       "    }\n",
       "</style>\n",
       "<table border=\"1\" class=\"dataframe\">\n",
       "  <thead>\n",
       "    <tr style=\"text-align: right;\">\n",
       "      <th></th>\n",
       "      <th>start_lat</th>\n",
       "      <th>start_lng</th>\n",
       "      <th>end_lat</th>\n",
       "      <th>end_lng</th>\n",
       "      <th>distance_km</th>\n",
       "      <th>traffic_density</th>\n",
       "      <th>day_of_week</th>\n",
       "      <th>hour_of_day</th>\n",
       "      <th>ETA</th>\n",
       "    </tr>\n",
       "  </thead>\n",
       "  <tbody>\n",
       "    <tr>\n",
       "      <th>start_lat</th>\n",
       "      <td>1.000000</td>\n",
       "      <td>0.029310</td>\n",
       "      <td>0.014518</td>\n",
       "      <td>-0.029424</td>\n",
       "      <td>0.034785</td>\n",
       "      <td>-0.024754</td>\n",
       "      <td>0.055406</td>\n",
       "      <td>-0.014557</td>\n",
       "      <td>-0.030701</td>\n",
       "    </tr>\n",
       "    <tr>\n",
       "      <th>start_lng</th>\n",
       "      <td>0.029310</td>\n",
       "      <td>1.000000</td>\n",
       "      <td>0.027262</td>\n",
       "      <td>-0.005791</td>\n",
       "      <td>0.032911</td>\n",
       "      <td>0.000297</td>\n",
       "      <td>-0.048353</td>\n",
       "      <td>0.014242</td>\n",
       "      <td>-0.007978</td>\n",
       "    </tr>\n",
       "    <tr>\n",
       "      <th>end_lat</th>\n",
       "      <td>0.014518</td>\n",
       "      <td>0.027262</td>\n",
       "      <td>1.000000</td>\n",
       "      <td>-0.013560</td>\n",
       "      <td>-0.008858</td>\n",
       "      <td>-0.014043</td>\n",
       "      <td>-0.057856</td>\n",
       "      <td>-0.006245</td>\n",
       "      <td>0.061752</td>\n",
       "    </tr>\n",
       "    <tr>\n",
       "      <th>end_lng</th>\n",
       "      <td>-0.029424</td>\n",
       "      <td>-0.005791</td>\n",
       "      <td>-0.013560</td>\n",
       "      <td>1.000000</td>\n",
       "      <td>-0.044812</td>\n",
       "      <td>0.034494</td>\n",
       "      <td>0.017789</td>\n",
       "      <td>-0.012494</td>\n",
       "      <td>0.009425</td>\n",
       "    </tr>\n",
       "    <tr>\n",
       "      <th>distance_km</th>\n",
       "      <td>0.034785</td>\n",
       "      <td>0.032911</td>\n",
       "      <td>-0.008858</td>\n",
       "      <td>-0.044812</td>\n",
       "      <td>1.000000</td>\n",
       "      <td>-0.031475</td>\n",
       "      <td>0.066093</td>\n",
       "      <td>0.022646</td>\n",
       "      <td>-0.008686</td>\n",
       "    </tr>\n",
       "    <tr>\n",
       "      <th>traffic_density</th>\n",
       "      <td>-0.024754</td>\n",
       "      <td>0.000297</td>\n",
       "      <td>-0.014043</td>\n",
       "      <td>0.034494</td>\n",
       "      <td>-0.031475</td>\n",
       "      <td>1.000000</td>\n",
       "      <td>-0.010457</td>\n",
       "      <td>0.018572</td>\n",
       "      <td>-0.009196</td>\n",
       "    </tr>\n",
       "    <tr>\n",
       "      <th>day_of_week</th>\n",
       "      <td>0.055406</td>\n",
       "      <td>-0.048353</td>\n",
       "      <td>-0.057856</td>\n",
       "      <td>0.017789</td>\n",
       "      <td>0.066093</td>\n",
       "      <td>-0.010457</td>\n",
       "      <td>1.000000</td>\n",
       "      <td>0.020010</td>\n",
       "      <td>0.072280</td>\n",
       "    </tr>\n",
       "    <tr>\n",
       "      <th>hour_of_day</th>\n",
       "      <td>-0.014557</td>\n",
       "      <td>0.014242</td>\n",
       "      <td>-0.006245</td>\n",
       "      <td>-0.012494</td>\n",
       "      <td>0.022646</td>\n",
       "      <td>0.018572</td>\n",
       "      <td>0.020010</td>\n",
       "      <td>1.000000</td>\n",
       "      <td>0.009233</td>\n",
       "    </tr>\n",
       "    <tr>\n",
       "      <th>ETA</th>\n",
       "      <td>-0.030701</td>\n",
       "      <td>-0.007978</td>\n",
       "      <td>0.061752</td>\n",
       "      <td>0.009425</td>\n",
       "      <td>-0.008686</td>\n",
       "      <td>-0.009196</td>\n",
       "      <td>0.072280</td>\n",
       "      <td>0.009233</td>\n",
       "      <td>1.000000</td>\n",
       "    </tr>\n",
       "  </tbody>\n",
       "</table>\n",
       "</div>"
      ],
      "text/plain": [
       "                 start_lat  start_lng   end_lat   end_lng  distance_km  \\\n",
       "start_lat         1.000000   0.029310  0.014518 -0.029424     0.034785   \n",
       "start_lng         0.029310   1.000000  0.027262 -0.005791     0.032911   \n",
       "end_lat           0.014518   0.027262  1.000000 -0.013560    -0.008858   \n",
       "end_lng          -0.029424  -0.005791 -0.013560  1.000000    -0.044812   \n",
       "distance_km       0.034785   0.032911 -0.008858 -0.044812     1.000000   \n",
       "traffic_density  -0.024754   0.000297 -0.014043  0.034494    -0.031475   \n",
       "day_of_week       0.055406  -0.048353 -0.057856  0.017789     0.066093   \n",
       "hour_of_day      -0.014557   0.014242 -0.006245 -0.012494     0.022646   \n",
       "ETA              -0.030701  -0.007978  0.061752  0.009425    -0.008686   \n",
       "\n",
       "                 traffic_density  day_of_week  hour_of_day       ETA  \n",
       "start_lat              -0.024754     0.055406    -0.014557 -0.030701  \n",
       "start_lng               0.000297    -0.048353     0.014242 -0.007978  \n",
       "end_lat                -0.014043    -0.057856    -0.006245  0.061752  \n",
       "end_lng                 0.034494     0.017789    -0.012494  0.009425  \n",
       "distance_km            -0.031475     0.066093     0.022646 -0.008686  \n",
       "traffic_density         1.000000    -0.010457     0.018572 -0.009196  \n",
       "day_of_week            -0.010457     1.000000     0.020010  0.072280  \n",
       "hour_of_day             0.018572     0.020010     1.000000  0.009233  \n",
       "ETA                    -0.009196     0.072280     0.009233  1.000000  "
      ]
     },
     "execution_count": 5,
     "metadata": {},
     "output_type": "execute_result"
    }
   ],
   "source": [
    "df1.corr()"
   ]
  },
  {
   "cell_type": "markdown",
   "id": "e53dc67b",
   "metadata": {},
   "source": [
    "# Data cleaning"
   ]
  },
  {
   "cell_type": "markdown",
   "id": "88263f52",
   "metadata": {},
   "source": [
    "## Feature Engineering"
   ]
  },
  {
   "cell_type": "code",
   "execution_count": 6,
   "id": "eda1a1de",
   "metadata": {},
   "outputs": [
    {
     "data": {
      "text/html": [
       "<div>\n",
       "<style scoped>\n",
       "    .dataframe tbody tr th:only-of-type {\n",
       "        vertical-align: middle;\n",
       "    }\n",
       "\n",
       "    .dataframe tbody tr th {\n",
       "        vertical-align: top;\n",
       "    }\n",
       "\n",
       "    .dataframe thead th {\n",
       "        text-align: right;\n",
       "    }\n",
       "</style>\n",
       "<table border=\"1\" class=\"dataframe\">\n",
       "  <thead>\n",
       "    <tr style=\"text-align: right;\">\n",
       "      <th></th>\n",
       "      <th>start_lat</th>\n",
       "      <th>start_lng</th>\n",
       "      <th>end_lat</th>\n",
       "      <th>end_lng</th>\n",
       "      <th>distance_km</th>\n",
       "      <th>traffic_density</th>\n",
       "      <th>weather_condition</th>\n",
       "      <th>day_of_week</th>\n",
       "      <th>hour_of_day</th>\n",
       "      <th>ETA</th>\n",
       "    </tr>\n",
       "  </thead>\n",
       "  <tbody>\n",
       "    <tr>\n",
       "      <th>0</th>\n",
       "      <td>17.312362</td>\n",
       "      <td>78.355540</td>\n",
       "      <td>17.278512</td>\n",
       "      <td>78.501811</td>\n",
       "      <td>17.587880</td>\n",
       "      <td>3</td>\n",
       "      <td>rainy</td>\n",
       "      <td>3</td>\n",
       "      <td>17</td>\n",
       "      <td>26.113020</td>\n",
       "    </tr>\n",
       "    <tr>\n",
       "      <th>1</th>\n",
       "      <td>17.485214</td>\n",
       "      <td>78.462570</td>\n",
       "      <td>17.274094</td>\n",
       "      <td>78.539004</td>\n",
       "      <td>24.357538</td>\n",
       "      <td>8</td>\n",
       "      <td>clear</td>\n",
       "      <td>5</td>\n",
       "      <td>14</td>\n",
       "      <td>58.715248</td>\n",
       "    </tr>\n",
       "    <tr>\n",
       "      <th>2</th>\n",
       "      <td>17.419598</td>\n",
       "      <td>78.561884</td>\n",
       "      <td>17.471876</td>\n",
       "      <td>78.375140</td>\n",
       "      <td>23.044667</td>\n",
       "      <td>7</td>\n",
       "      <td>rainy</td>\n",
       "      <td>6</td>\n",
       "      <td>8</td>\n",
       "      <td>59.316409</td>\n",
       "    </tr>\n",
       "    <tr>\n",
       "      <th>3</th>\n",
       "      <td>17.379598</td>\n",
       "      <td>78.519667</td>\n",
       "      <td>17.274864</td>\n",
       "      <td>78.487462</td>\n",
       "      <td>5.463097</td>\n",
       "      <td>3</td>\n",
       "      <td>clear</td>\n",
       "      <td>2</td>\n",
       "      <td>17</td>\n",
       "      <td>35.630253</td>\n",
       "    </tr>\n",
       "    <tr>\n",
       "      <th>4</th>\n",
       "      <td>17.246806</td>\n",
       "      <td>78.541968</td>\n",
       "      <td>17.281585</td>\n",
       "      <td>78.471524</td>\n",
       "      <td>5.328235</td>\n",
       "      <td>6</td>\n",
       "      <td>clear</td>\n",
       "      <td>1</td>\n",
       "      <td>2</td>\n",
       "      <td>56.713490</td>\n",
       "    </tr>\n",
       "    <tr>\n",
       "      <th>...</th>\n",
       "      <td>...</td>\n",
       "      <td>...</td>\n",
       "      <td>...</td>\n",
       "      <td>...</td>\n",
       "      <td>...</td>\n",
       "      <td>...</td>\n",
       "      <td>...</td>\n",
       "      <td>...</td>\n",
       "      <td>...</td>\n",
       "      <td>...</td>\n",
       "    </tr>\n",
       "    <tr>\n",
       "      <th>995</th>\n",
       "      <td>17.227475</td>\n",
       "      <td>78.497087</td>\n",
       "      <td>17.459589</td>\n",
       "      <td>78.432632</td>\n",
       "      <td>27.024522</td>\n",
       "      <td>9</td>\n",
       "      <td>clear</td>\n",
       "      <td>2</td>\n",
       "      <td>4</td>\n",
       "      <td>18.585042</td>\n",
       "    </tr>\n",
       "    <tr>\n",
       "      <th>996</th>\n",
       "      <td>17.475194</td>\n",
       "      <td>78.586984</td>\n",
       "      <td>17.247182</td>\n",
       "      <td>78.400320</td>\n",
       "      <td>4.462049</td>\n",
       "      <td>1</td>\n",
       "      <td>rainy</td>\n",
       "      <td>5</td>\n",
       "      <td>14</td>\n",
       "      <td>42.688225</td>\n",
       "    </tr>\n",
       "    <tr>\n",
       "      <th>997</th>\n",
       "      <td>17.241046</td>\n",
       "      <td>78.320687</td>\n",
       "      <td>17.292936</td>\n",
       "      <td>78.418372</td>\n",
       "      <td>10.507442</td>\n",
       "      <td>1</td>\n",
       "      <td>clear</td>\n",
       "      <td>5</td>\n",
       "      <td>12</td>\n",
       "      <td>11.273635</td>\n",
       "    </tr>\n",
       "    <tr>\n",
       "      <th>998</th>\n",
       "      <td>17.485071</td>\n",
       "      <td>78.317116</td>\n",
       "      <td>17.287014</td>\n",
       "      <td>78.458982</td>\n",
       "      <td>24.656616</td>\n",
       "      <td>4</td>\n",
       "      <td>rainy</td>\n",
       "      <td>5</td>\n",
       "      <td>12</td>\n",
       "      <td>13.180450</td>\n",
       "    </tr>\n",
       "    <tr>\n",
       "      <th>999</th>\n",
       "      <td>17.333802</td>\n",
       "      <td>78.384656</td>\n",
       "      <td>17.461424</td>\n",
       "      <td>78.348410</td>\n",
       "      <td>18.322059</td>\n",
       "      <td>4</td>\n",
       "      <td>rainy</td>\n",
       "      <td>3</td>\n",
       "      <td>12</td>\n",
       "      <td>21.053944</td>\n",
       "    </tr>\n",
       "  </tbody>\n",
       "</table>\n",
       "<p>1000 rows × 10 columns</p>\n",
       "</div>"
      ],
      "text/plain": [
       "     start_lat  start_lng    end_lat    end_lng  distance_km  traffic_density  \\\n",
       "0    17.312362  78.355540  17.278512  78.501811    17.587880                3   \n",
       "1    17.485214  78.462570  17.274094  78.539004    24.357538                8   \n",
       "2    17.419598  78.561884  17.471876  78.375140    23.044667                7   \n",
       "3    17.379598  78.519667  17.274864  78.487462     5.463097                3   \n",
       "4    17.246806  78.541968  17.281585  78.471524     5.328235                6   \n",
       "..         ...        ...        ...        ...          ...              ...   \n",
       "995  17.227475  78.497087  17.459589  78.432632    27.024522                9   \n",
       "996  17.475194  78.586984  17.247182  78.400320     4.462049                1   \n",
       "997  17.241046  78.320687  17.292936  78.418372    10.507442                1   \n",
       "998  17.485071  78.317116  17.287014  78.458982    24.656616                4   \n",
       "999  17.333802  78.384656  17.461424  78.348410    18.322059                4   \n",
       "\n",
       "    weather_condition  day_of_week  hour_of_day        ETA  \n",
       "0               rainy            3           17  26.113020  \n",
       "1               clear            5           14  58.715248  \n",
       "2               rainy            6            8  59.316409  \n",
       "3               clear            2           17  35.630253  \n",
       "4               clear            1            2  56.713490  \n",
       "..                ...          ...          ...        ...  \n",
       "995             clear            2            4  18.585042  \n",
       "996             rainy            5           14  42.688225  \n",
       "997             clear            5           12  11.273635  \n",
       "998             rainy            5           12  13.180450  \n",
       "999             rainy            3           12  21.053944  \n",
       "\n",
       "[1000 rows x 10 columns]"
      ]
     },
     "execution_count": 6,
     "metadata": {},
     "output_type": "execute_result"
    }
   ],
   "source": [
    "df1"
   ]
  },
  {
   "cell_type": "markdown",
   "id": "17fab630",
   "metadata": {},
   "source": [
    "# Model building"
   ]
  },
  {
   "cell_type": "code",
   "execution_count": 7,
   "id": "4ddef715",
   "metadata": {},
   "outputs": [],
   "source": [
    "#splitting the input and output"
   ]
  },
  {
   "cell_type": "code",
   "execution_count": 8,
   "id": "99833987",
   "metadata": {},
   "outputs": [
    {
     "data": {
      "text/plain": [
       "array(['rainy', 'clear', 'foggy'], dtype=object)"
      ]
     },
     "execution_count": 8,
     "metadata": {},
     "output_type": "execute_result"
    }
   ],
   "source": [
    "df1[\"weather_condition\"].unique()"
   ]
  },
  {
   "cell_type": "code",
   "execution_count": 9,
   "id": "e57825fa",
   "metadata": {},
   "outputs": [],
   "source": [
    "df1[\"weather_condition\"]=df1[\"weather_condition\"].map({'rainy':1,'clear':2,\"foggy\":3})"
   ]
  },
  {
   "cell_type": "code",
   "execution_count": 10,
   "id": "4b234c60",
   "metadata": {},
   "outputs": [
    {
     "data": {
      "text/html": [
       "<div>\n",
       "<style scoped>\n",
       "    .dataframe tbody tr th:only-of-type {\n",
       "        vertical-align: middle;\n",
       "    }\n",
       "\n",
       "    .dataframe tbody tr th {\n",
       "        vertical-align: top;\n",
       "    }\n",
       "\n",
       "    .dataframe thead th {\n",
       "        text-align: right;\n",
       "    }\n",
       "</style>\n",
       "<table border=\"1\" class=\"dataframe\">\n",
       "  <thead>\n",
       "    <tr style=\"text-align: right;\">\n",
       "      <th></th>\n",
       "      <th>start_lat</th>\n",
       "      <th>start_lng</th>\n",
       "      <th>end_lat</th>\n",
       "      <th>end_lng</th>\n",
       "      <th>distance_km</th>\n",
       "      <th>traffic_density</th>\n",
       "      <th>weather_condition</th>\n",
       "      <th>day_of_week</th>\n",
       "      <th>hour_of_day</th>\n",
       "      <th>ETA</th>\n",
       "    </tr>\n",
       "  </thead>\n",
       "  <tbody>\n",
       "    <tr>\n",
       "      <th>0</th>\n",
       "      <td>17.312362</td>\n",
       "      <td>78.355540</td>\n",
       "      <td>17.278512</td>\n",
       "      <td>78.501811</td>\n",
       "      <td>17.587880</td>\n",
       "      <td>3</td>\n",
       "      <td>1</td>\n",
       "      <td>3</td>\n",
       "      <td>17</td>\n",
       "      <td>26.113020</td>\n",
       "    </tr>\n",
       "    <tr>\n",
       "      <th>1</th>\n",
       "      <td>17.485214</td>\n",
       "      <td>78.462570</td>\n",
       "      <td>17.274094</td>\n",
       "      <td>78.539004</td>\n",
       "      <td>24.357538</td>\n",
       "      <td>8</td>\n",
       "      <td>2</td>\n",
       "      <td>5</td>\n",
       "      <td>14</td>\n",
       "      <td>58.715248</td>\n",
       "    </tr>\n",
       "    <tr>\n",
       "      <th>2</th>\n",
       "      <td>17.419598</td>\n",
       "      <td>78.561884</td>\n",
       "      <td>17.471876</td>\n",
       "      <td>78.375140</td>\n",
       "      <td>23.044667</td>\n",
       "      <td>7</td>\n",
       "      <td>1</td>\n",
       "      <td>6</td>\n",
       "      <td>8</td>\n",
       "      <td>59.316409</td>\n",
       "    </tr>\n",
       "    <tr>\n",
       "      <th>3</th>\n",
       "      <td>17.379598</td>\n",
       "      <td>78.519667</td>\n",
       "      <td>17.274864</td>\n",
       "      <td>78.487462</td>\n",
       "      <td>5.463097</td>\n",
       "      <td>3</td>\n",
       "      <td>2</td>\n",
       "      <td>2</td>\n",
       "      <td>17</td>\n",
       "      <td>35.630253</td>\n",
       "    </tr>\n",
       "    <tr>\n",
       "      <th>4</th>\n",
       "      <td>17.246806</td>\n",
       "      <td>78.541968</td>\n",
       "      <td>17.281585</td>\n",
       "      <td>78.471524</td>\n",
       "      <td>5.328235</td>\n",
       "      <td>6</td>\n",
       "      <td>2</td>\n",
       "      <td>1</td>\n",
       "      <td>2</td>\n",
       "      <td>56.713490</td>\n",
       "    </tr>\n",
       "    <tr>\n",
       "      <th>...</th>\n",
       "      <td>...</td>\n",
       "      <td>...</td>\n",
       "      <td>...</td>\n",
       "      <td>...</td>\n",
       "      <td>...</td>\n",
       "      <td>...</td>\n",
       "      <td>...</td>\n",
       "      <td>...</td>\n",
       "      <td>...</td>\n",
       "      <td>...</td>\n",
       "    </tr>\n",
       "    <tr>\n",
       "      <th>995</th>\n",
       "      <td>17.227475</td>\n",
       "      <td>78.497087</td>\n",
       "      <td>17.459589</td>\n",
       "      <td>78.432632</td>\n",
       "      <td>27.024522</td>\n",
       "      <td>9</td>\n",
       "      <td>2</td>\n",
       "      <td>2</td>\n",
       "      <td>4</td>\n",
       "      <td>18.585042</td>\n",
       "    </tr>\n",
       "    <tr>\n",
       "      <th>996</th>\n",
       "      <td>17.475194</td>\n",
       "      <td>78.586984</td>\n",
       "      <td>17.247182</td>\n",
       "      <td>78.400320</td>\n",
       "      <td>4.462049</td>\n",
       "      <td>1</td>\n",
       "      <td>1</td>\n",
       "      <td>5</td>\n",
       "      <td>14</td>\n",
       "      <td>42.688225</td>\n",
       "    </tr>\n",
       "    <tr>\n",
       "      <th>997</th>\n",
       "      <td>17.241046</td>\n",
       "      <td>78.320687</td>\n",
       "      <td>17.292936</td>\n",
       "      <td>78.418372</td>\n",
       "      <td>10.507442</td>\n",
       "      <td>1</td>\n",
       "      <td>2</td>\n",
       "      <td>5</td>\n",
       "      <td>12</td>\n",
       "      <td>11.273635</td>\n",
       "    </tr>\n",
       "    <tr>\n",
       "      <th>998</th>\n",
       "      <td>17.485071</td>\n",
       "      <td>78.317116</td>\n",
       "      <td>17.287014</td>\n",
       "      <td>78.458982</td>\n",
       "      <td>24.656616</td>\n",
       "      <td>4</td>\n",
       "      <td>1</td>\n",
       "      <td>5</td>\n",
       "      <td>12</td>\n",
       "      <td>13.180450</td>\n",
       "    </tr>\n",
       "    <tr>\n",
       "      <th>999</th>\n",
       "      <td>17.333802</td>\n",
       "      <td>78.384656</td>\n",
       "      <td>17.461424</td>\n",
       "      <td>78.348410</td>\n",
       "      <td>18.322059</td>\n",
       "      <td>4</td>\n",
       "      <td>1</td>\n",
       "      <td>3</td>\n",
       "      <td>12</td>\n",
       "      <td>21.053944</td>\n",
       "    </tr>\n",
       "  </tbody>\n",
       "</table>\n",
       "<p>1000 rows × 10 columns</p>\n",
       "</div>"
      ],
      "text/plain": [
       "     start_lat  start_lng    end_lat    end_lng  distance_km  traffic_density  \\\n",
       "0    17.312362  78.355540  17.278512  78.501811    17.587880                3   \n",
       "1    17.485214  78.462570  17.274094  78.539004    24.357538                8   \n",
       "2    17.419598  78.561884  17.471876  78.375140    23.044667                7   \n",
       "3    17.379598  78.519667  17.274864  78.487462     5.463097                3   \n",
       "4    17.246806  78.541968  17.281585  78.471524     5.328235                6   \n",
       "..         ...        ...        ...        ...          ...              ...   \n",
       "995  17.227475  78.497087  17.459589  78.432632    27.024522                9   \n",
       "996  17.475194  78.586984  17.247182  78.400320     4.462049                1   \n",
       "997  17.241046  78.320687  17.292936  78.418372    10.507442                1   \n",
       "998  17.485071  78.317116  17.287014  78.458982    24.656616                4   \n",
       "999  17.333802  78.384656  17.461424  78.348410    18.322059                4   \n",
       "\n",
       "     weather_condition  day_of_week  hour_of_day        ETA  \n",
       "0                    1            3           17  26.113020  \n",
       "1                    2            5           14  58.715248  \n",
       "2                    1            6            8  59.316409  \n",
       "3                    2            2           17  35.630253  \n",
       "4                    2            1            2  56.713490  \n",
       "..                 ...          ...          ...        ...  \n",
       "995                  2            2            4  18.585042  \n",
       "996                  1            5           14  42.688225  \n",
       "997                  2            5           12  11.273635  \n",
       "998                  1            5           12  13.180450  \n",
       "999                  1            3           12  21.053944  \n",
       "\n",
       "[1000 rows x 10 columns]"
      ]
     },
     "execution_count": 10,
     "metadata": {},
     "output_type": "execute_result"
    }
   ],
   "source": [
    "df1"
   ]
  },
  {
   "cell_type": "code",
   "execution_count": 11,
   "id": "dd079b38",
   "metadata": {},
   "outputs": [],
   "source": [
    "x=df1.drop(\"ETA\",axis=1)\n",
    "y=df1[[\"ETA\"]]"
   ]
  },
  {
   "cell_type": "code",
   "execution_count": 12,
   "id": "6f081a62",
   "metadata": {},
   "outputs": [
    {
     "data": {
      "text/html": [
       "<div>\n",
       "<style scoped>\n",
       "    .dataframe tbody tr th:only-of-type {\n",
       "        vertical-align: middle;\n",
       "    }\n",
       "\n",
       "    .dataframe tbody tr th {\n",
       "        vertical-align: top;\n",
       "    }\n",
       "\n",
       "    .dataframe thead th {\n",
       "        text-align: right;\n",
       "    }\n",
       "</style>\n",
       "<table border=\"1\" class=\"dataframe\">\n",
       "  <thead>\n",
       "    <tr style=\"text-align: right;\">\n",
       "      <th></th>\n",
       "      <th>start_lat</th>\n",
       "      <th>start_lng</th>\n",
       "      <th>end_lat</th>\n",
       "      <th>end_lng</th>\n",
       "      <th>distance_km</th>\n",
       "      <th>traffic_density</th>\n",
       "      <th>weather_condition</th>\n",
       "      <th>day_of_week</th>\n",
       "      <th>hour_of_day</th>\n",
       "    </tr>\n",
       "  </thead>\n",
       "  <tbody>\n",
       "    <tr>\n",
       "      <th>0</th>\n",
       "      <td>17.312362</td>\n",
       "      <td>78.355540</td>\n",
       "      <td>17.278512</td>\n",
       "      <td>78.501811</td>\n",
       "      <td>17.587880</td>\n",
       "      <td>3</td>\n",
       "      <td>1</td>\n",
       "      <td>3</td>\n",
       "      <td>17</td>\n",
       "    </tr>\n",
       "    <tr>\n",
       "      <th>1</th>\n",
       "      <td>17.485214</td>\n",
       "      <td>78.462570</td>\n",
       "      <td>17.274094</td>\n",
       "      <td>78.539004</td>\n",
       "      <td>24.357538</td>\n",
       "      <td>8</td>\n",
       "      <td>2</td>\n",
       "      <td>5</td>\n",
       "      <td>14</td>\n",
       "    </tr>\n",
       "    <tr>\n",
       "      <th>2</th>\n",
       "      <td>17.419598</td>\n",
       "      <td>78.561884</td>\n",
       "      <td>17.471876</td>\n",
       "      <td>78.375140</td>\n",
       "      <td>23.044667</td>\n",
       "      <td>7</td>\n",
       "      <td>1</td>\n",
       "      <td>6</td>\n",
       "      <td>8</td>\n",
       "    </tr>\n",
       "    <tr>\n",
       "      <th>3</th>\n",
       "      <td>17.379598</td>\n",
       "      <td>78.519667</td>\n",
       "      <td>17.274864</td>\n",
       "      <td>78.487462</td>\n",
       "      <td>5.463097</td>\n",
       "      <td>3</td>\n",
       "      <td>2</td>\n",
       "      <td>2</td>\n",
       "      <td>17</td>\n",
       "    </tr>\n",
       "    <tr>\n",
       "      <th>4</th>\n",
       "      <td>17.246806</td>\n",
       "      <td>78.541968</td>\n",
       "      <td>17.281585</td>\n",
       "      <td>78.471524</td>\n",
       "      <td>5.328235</td>\n",
       "      <td>6</td>\n",
       "      <td>2</td>\n",
       "      <td>1</td>\n",
       "      <td>2</td>\n",
       "    </tr>\n",
       "  </tbody>\n",
       "</table>\n",
       "</div>"
      ],
      "text/plain": [
       "   start_lat  start_lng    end_lat    end_lng  distance_km  traffic_density  \\\n",
       "0  17.312362  78.355540  17.278512  78.501811    17.587880                3   \n",
       "1  17.485214  78.462570  17.274094  78.539004    24.357538                8   \n",
       "2  17.419598  78.561884  17.471876  78.375140    23.044667                7   \n",
       "3  17.379598  78.519667  17.274864  78.487462     5.463097                3   \n",
       "4  17.246806  78.541968  17.281585  78.471524     5.328235                6   \n",
       "\n",
       "   weather_condition  day_of_week  hour_of_day  \n",
       "0                  1            3           17  \n",
       "1                  2            5           14  \n",
       "2                  1            6            8  \n",
       "3                  2            2           17  \n",
       "4                  2            1            2  "
      ]
     },
     "execution_count": 12,
     "metadata": {},
     "output_type": "execute_result"
    }
   ],
   "source": [
    "x.head()#input"
   ]
  },
  {
   "cell_type": "code",
   "execution_count": 13,
   "id": "9d4ec4be",
   "metadata": {},
   "outputs": [
    {
     "data": {
      "text/html": [
       "<div>\n",
       "<style scoped>\n",
       "    .dataframe tbody tr th:only-of-type {\n",
       "        vertical-align: middle;\n",
       "    }\n",
       "\n",
       "    .dataframe tbody tr th {\n",
       "        vertical-align: top;\n",
       "    }\n",
       "\n",
       "    .dataframe thead th {\n",
       "        text-align: right;\n",
       "    }\n",
       "</style>\n",
       "<table border=\"1\" class=\"dataframe\">\n",
       "  <thead>\n",
       "    <tr style=\"text-align: right;\">\n",
       "      <th></th>\n",
       "      <th>ETA</th>\n",
       "    </tr>\n",
       "  </thead>\n",
       "  <tbody>\n",
       "    <tr>\n",
       "      <th>0</th>\n",
       "      <td>26.113020</td>\n",
       "    </tr>\n",
       "    <tr>\n",
       "      <th>1</th>\n",
       "      <td>58.715248</td>\n",
       "    </tr>\n",
       "    <tr>\n",
       "      <th>2</th>\n",
       "      <td>59.316409</td>\n",
       "    </tr>\n",
       "    <tr>\n",
       "      <th>3</th>\n",
       "      <td>35.630253</td>\n",
       "    </tr>\n",
       "    <tr>\n",
       "      <th>4</th>\n",
       "      <td>56.713490</td>\n",
       "    </tr>\n",
       "  </tbody>\n",
       "</table>\n",
       "</div>"
      ],
      "text/plain": [
       "         ETA\n",
       "0  26.113020\n",
       "1  58.715248\n",
       "2  59.316409\n",
       "3  35.630253\n",
       "4  56.713490"
      ]
     },
     "execution_count": 13,
     "metadata": {},
     "output_type": "execute_result"
    }
   ],
   "source": [
    "y.head()#output"
   ]
  },
  {
   "cell_type": "code",
   "execution_count": 14,
   "id": "60536250",
   "metadata": {},
   "outputs": [],
   "source": [
    "from sklearn.model_selection import train_test_split #For train_test data"
   ]
  },
  {
   "cell_type": "code",
   "execution_count": 15,
   "id": "eaf0a21e",
   "metadata": {},
   "outputs": [],
   "source": [
    "x_train,x_test,y_train,y_test=train_test_split(x,y,test_size=0.2,random_state=13)"
   ]
  },
  {
   "cell_type": "markdown",
   "id": "0c6870a7",
   "metadata": {},
   "source": [
    "# Linear regression"
   ]
  },
  {
   "cell_type": "code",
   "execution_count": 16,
   "id": "aa35b8b9",
   "metadata": {},
   "outputs": [],
   "source": [
    "from sklearn.linear_model import LinearRegression #for linearegression model\n",
    "lin_re=LinearRegression()"
   ]
  },
  {
   "cell_type": "code",
   "execution_count": 18,
   "id": "ccd70360",
   "metadata": {},
   "outputs": [
    {
     "data": {
      "text/plain": [
       "LinearRegression()"
      ]
     },
     "execution_count": 18,
     "metadata": {},
     "output_type": "execute_result"
    }
   ],
   "source": [
    "lin_re.fit(x_train,y_train) #fit on trained data"
   ]
  },
  {
   "cell_type": "code",
   "execution_count": 19,
   "id": "d642a253",
   "metadata": {},
   "outputs": [],
   "source": [
    "y_pred=lin_re.predict(x_test)"
   ]
  },
  {
   "cell_type": "code",
   "execution_count": 20,
   "id": "822d703e",
   "metadata": {},
   "outputs": [],
   "source": [
    "#Evaluation metrics\n",
    "from sklearn.metrics import mean_squared_error"
   ]
  },
  {
   "cell_type": "code",
   "execution_count": 21,
   "id": "c343e733",
   "metadata": {},
   "outputs": [
    {
     "data": {
      "text/plain": [
       "248.27823503969978"
      ]
     },
     "execution_count": 21,
     "metadata": {},
     "output_type": "execute_result"
    }
   ],
   "source": [
    "mean_squared_error(y_test,y_pred)"
   ]
  },
  {
   "cell_type": "markdown",
   "id": "5c570a91",
   "metadata": {},
   "source": [
    "# KNN regression"
   ]
  },
  {
   "cell_type": "code",
   "execution_count": 22,
   "id": "1bc02a67",
   "metadata": {},
   "outputs": [
    {
     "data": {
      "text/plain": [
       "269.6128649806886"
      ]
     },
     "execution_count": 22,
     "metadata": {},
     "output_type": "execute_result"
    }
   ],
   "source": [
    "from sklearn.neighbors import KNeighborsRegressor\n",
    "knn_re=KNeighborsRegressor()\n",
    "knn_re.fit(x_train,y_train) #fit on trained data\n",
    "y_pred=knn_re.predict(x_test)\n",
    "mean_squared_error(y_test,y_pred)"
   ]
  },
  {
   "cell_type": "markdown",
   "id": "936f7aec",
   "metadata": {},
   "source": [
    "# Decision Tree"
   ]
  },
  {
   "cell_type": "code",
   "execution_count": 23,
   "id": "21fd5b16",
   "metadata": {},
   "outputs": [
    {
     "data": {
      "text/plain": [
       "269.6128649806886"
      ]
     },
     "execution_count": 23,
     "metadata": {},
     "output_type": "execute_result"
    }
   ],
   "source": [
    "from sklearn.tree import DecisionTreeRegressor\n",
    "DT_re=DecisionTreeRegressor()\n",
    "DT_re.fit(x_train,y_train) #fit on trained data\n",
    "y_pred=knn_re.predict(x_test)\n",
    "mean_squared_error(y_test,y_pred)"
   ]
  },
  {
   "cell_type": "markdown",
   "id": "1638cfb4",
   "metadata": {},
   "source": [
    "# SVM"
   ]
  },
  {
   "cell_type": "code",
   "execution_count": 24,
   "id": "88e3680d",
   "metadata": {},
   "outputs": [
    {
     "name": "stderr",
     "output_type": "stream",
     "text": [
      "C:\\Users\\RAGHAVENDRA KUMAR\\anaconda3\\lib\\site-packages\\sklearn\\utils\\validation.py:993: DataConversionWarning: A column-vector y was passed when a 1d array was expected. Please change the shape of y to (n_samples, ), for example using ravel().\n",
      "  y = column_or_1d(y, warn=True)\n"
     ]
    },
    {
     "data": {
      "text/plain": [
       "269.6128649806886"
      ]
     },
     "execution_count": 24,
     "metadata": {},
     "output_type": "execute_result"
    }
   ],
   "source": [
    "from sklearn.svm import SVR\n",
    "svm_re=SVR()\n",
    "svm_re.fit(x_train,y_train) #fit on trained data\n",
    "y_pred=knn_re.predict(x_test)\n",
    "mean_squared_error(y_test,y_pred)"
   ]
  },
  {
   "cell_type": "markdown",
   "id": "0ea15ad8",
   "metadata": {},
   "source": [
    "# Deployment"
   ]
  },
  {
   "cell_type": "code",
   "execution_count": 30,
   "id": "b92badcd",
   "metadata": {},
   "outputs": [
    {
     "name": "stdout",
     "output_type": "stream",
     "text": [
      "Enter the start latitude : 17.87\n",
      "Enter the start longitude : 78.67\n",
      "Enter the end latitude : 17.96\n",
      "Enter the end longitude : 78.89\n",
      "Enter the distance : 16\n",
      "Enter the density : 4\n",
      "Enter the weather report :1\n",
      "Enter the day : 3\n",
      "Enter the hours : 12\n",
      "The Estimated time :  42.751819554152576\n"
     ]
    },
    {
     "name": "stderr",
     "output_type": "stream",
     "text": [
      "C:\\Users\\RAGHAVENDRA KUMAR\\anaconda3\\lib\\site-packages\\sklearn\\base.py:450: UserWarning: X does not have valid feature names, but LinearRegression was fitted with feature names\n",
      "  warnings.warn(\n"
     ]
    }
   ],
   "source": [
    "start_lat=float(input(\"Enter the start latitude : \"))\n",
    "start_lng=float(input(\"Enter the start longitude : \"))\n",
    "end_lat=float(input(\"Enter the end latitude : \"))\n",
    "end_lng=float(input(\"Enter the end longitude : \"))\n",
    "dist=float(input(\"Enter the distance : \"))\n",
    "density=int(input(\"Enter the density : \"))\n",
    "weather=int(input(\"Enter the weather report :\"))\n",
    "day=int(input(\"Enter the day : \"))\n",
    "hour=int(input(\"Enter the hours : \"))\n",
    "time=lin_re.predict([[start_lat,start_lng,end_lat,end_lng,dist,density,weather,day,hour]])\n",
    "print(\"The Estimated time : \",time[0][0])"
   ]
  },
  {
   "cell_type": "code",
   "execution_count": null,
   "id": "94002461",
   "metadata": {},
   "outputs": [],
   "source": [
    "!pip install pickle"
   ]
  },
  {
   "cell_type": "code",
   "execution_count": 25,
   "id": "78f437f7",
   "metadata": {},
   "outputs": [],
   "source": [
    "import pickle"
   ]
  },
  {
   "cell_type": "code",
   "execution_count": 26,
   "id": "4054639e",
   "metadata": {},
   "outputs": [],
   "source": [
    "pickle.dump(lin_re,open(\"estimator.pkl\",\"wb\"))"
   ]
  },
  {
   "cell_type": "code",
   "execution_count": 27,
   "id": "d362fe14",
   "metadata": {},
   "outputs": [],
   "source": [
    "model=pickle.load(open(\"estimator.pkl\",\"rb\"))"
   ]
  },
  {
   "cell_type": "code",
   "execution_count": 28,
   "id": "a3544c03",
   "metadata": {},
   "outputs": [
    {
     "data": {
      "text/plain": [
       "LinearRegression()"
      ]
     },
     "execution_count": 28,
     "metadata": {},
     "output_type": "execute_result"
    }
   ],
   "source": [
    "model"
   ]
  }
 ],
 "metadata": {
  "kernelspec": {
   "display_name": "Python 3 (ipykernel)",
   "language": "python",
   "name": "python3"
  },
  "language_info": {
   "codemirror_mode": {
    "name": "ipython",
    "version": 3
   },
   "file_extension": ".py",
   "mimetype": "text/x-python",
   "name": "python",
   "nbconvert_exporter": "python",
   "pygments_lexer": "ipython3",
   "version": "3.9.13"
  }
 },
 "nbformat": 4,
 "nbformat_minor": 5
}
